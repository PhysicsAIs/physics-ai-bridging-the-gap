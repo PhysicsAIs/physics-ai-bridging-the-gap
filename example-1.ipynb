{
  "cells": [
    {
      "cell_type": "code",
      "source": [
        "import pandas as pd",
        "from sklearn.model_selection import train_test_split",
        "from sklearn.ensemble import RandomForestClassifier",
        "from sklearn.metrics import accuracy_score, classification_report",
        "from sklearn.datasets import load_iris",
        "",
        "# Load the Iris dataset",
        "iris = load_iris()",
        "iris_df = pd.DataFrame(data=iris.data, columns=iris.feature_names)",
        "iris_df['target'] = iris.target",
        "",
        "# Display the first few rows of the dataset",
        "print(iris_df.head())",
        "",
        "# Prepare the data for training",
        "X = iris_df.drop('target', axis=1)",
        "y = iris_df['target']",
        "",
        "X_train, X_test, y_train, y_test = train_test_split(X, y, test_size=0.2, random_state=42)",
        "",
        "# Train a Random Forest Classifier",
        "rf_classifier = RandomForestClassifier()",
        "rf_classifier.fit(X_train, y_train)",
        "",
        "# Predict on the test set and evaluate the model",
        "y_pred = rf_classifier.predict(X_test)",
        "",
        "accuracy = accuracy_score(y_test, y_pred)",
        "print(f'Accuracy: {accuracy}')",
        "",
        "# Print classification report",
        "print(classification_report(y_test, y_pred)"
      ]
    }
  ],
  "metadata": {
    "kernelspec": {
      "display_name": "Python 3",
      "language": "python",
      "name": "python3"
    },
    "language_info": {
      "codemirror_mode": {
        "name": "ipython",
        "version": 3
      },
      "file_extension": ".py",
      "mimetype": "text/x-python",
      "name": "python",
      "nbconvert_exporter": "python",
      "pygments_lexer": "ipython3",
      "version": "3.7.10"
    }
  },
  "nbformat": 4,
  "nbformat_minor": 2
}

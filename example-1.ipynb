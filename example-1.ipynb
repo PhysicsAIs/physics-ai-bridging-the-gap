{
  "cells": [
    {
      "cell_type": "code",
      "metadata": {},
      "source": [
        "import pandas as pd",
        "from sklearn.model_selection import train_test_split",
        "from sklearn.ensemble import RandomForestClassifier",
        "from sklearn.metrics import accuracy_score, classification_report",
        "from sklearn.datasets import load_iris"
      ],
      "execution_count": 1,
      "outputs": []
    },
    {
      "cell_type": "code",
      "metadata": {},
      "source": [
        "# Load the Iris dataset",
        "iris = load_iris()",
        "iris_df = pd.DataFrame(data=iris.data, columns=iris.feature_names)",
        "iris_df['target'] = iris.target",
        "",
        "# Display the first few rows of the dataset",
        "print(iris_df.head())"
      ],
      "execution_count": 2,
      "outputs": []
    },
    {
      "cell_type": "code",
      "metadata": {},
      "source": [
        "# Prepare the data for training",
        "X = iris_df.drop('target', axis=1)",
        "y = iris_df['target']",
        "",
        "X_train, X_test, y_train, y_test = train_test_split(X, y, test_size=0.2, random_state=42)"
      ],
      "execution_count": 3,
      "outputs": []
    },
    {
      "cell_type": "code",
      "metadata": {},
      "source": [
        "# Train a Random Forest Classifier",
        "rf_classifier = RandomForestClassifier()",
        "rf_classifier.fit(X_train, y_train)"
      ],
      "execution_count": 4,
      "outputs": []
    },
    {
      "cell_type": "code",
      "metadata": {},
      "source": [
        "# Predict on the test set and evaluate the model",
        "y_pred = rf_classifier.predict(X_test)",
        "",
        "accuracy = accuracy_score(y_test, y_pred)",
        "print(f'Accuracy: {accuracy}')"
      ],
      "execution_count": 5,
      "outputs": []
    },
    {
      "cell_type": "code",
      "metadata": {},
      "source": [
        "# Print classification report",
        "print(classification_report(y_test, y_pred))"
      ],
      "execution_count": 6,
      "outputs": []
    }
  ],
  "metadata": {
    "kernelspec": {
      "display_name": "Python 3",
      "language": "python",
      "name": "python3"
    },
    "language_info": {
      "name": "python",
      "pygments_lexer": "ipython3",
      "nbconvert_exporter": "python",
      "version": "3.7.10"
    }
  },
  "nbformat": 4,
  "nbformat_minor": 5
}

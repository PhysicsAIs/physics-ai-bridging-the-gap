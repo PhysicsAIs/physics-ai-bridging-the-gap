{
 "cells": [
  {
   "cell_type": "markdown",
   "metadata": {},
   "source": [
    "# Materials Discovery with AI Techniques\n",
    "\n",
    "This notebook demonstrates how to use AI algorithms to predict and discover new materials with specific properties. We'll use clustering and classification techniques to categorize materials based on their features."
   ]
  },
  {
   "cell_type": "code",
   "execution_count": 1,
   "metadata": {},
   "outputs": [],
   "source": [
    "# Import necessary libraries\n",
    "import numpy as np\n",
    "import pandas as pd\n",
    "import matplotlib.pyplot as plt\n",
    "import seaborn as sns\n",
    "from sklearn.model_selection import train_test_split\n",
    "from sklearn.preprocessing import StandardScaler\n",
    "from sklearn.decomposition import PCA\n",
    "from sklearn.cluster import KMeans\n",
    "from sklearn.ensemble import RandomForestClassifier\n",
    "from sklearn.metrics import classification_report, confusion_matrix\n",
    "from sklearn.datasets import make_classification"
   ]
  },
  {
   "cell_type": "code",
   "execution_count": 2,
   "metadata": {},
   "outputs": [],
   "source": [
    "# Generate synthetic dataset representing material properties\n",
    "def generate_materials_data(n_samples=10000):\n",
    "    np.random.seed(42)\n",
    "    X, y = make_classification(n_samples=n_samples, n_features=10, n_informative=5, n_redundant=2, n_clusters_per_class=1, n_classes=3)\n",
    "    columns = [f'feature_{i}' for i in range(X.shape[1])]\n",
    "    df = pd.DataFrame(X, columns=columns)\n",
    "    df['class'] = y\n",
    "    return df\n",
    "\n",
    "# Load and preprocess the dataset\n",
    "df_materials = generate_materials_data()\n",
    "X_materials = df_materials.drop('class', axis=1)\n",
    "y_materials = df_materials['class']\n",
    "\n",
    "# Split the dataset into training and testing sets\n",
    "X_materials_train, X_materials_test, y_materials_train, y_materials_test = train_test_split(X_materials, y_materials, test_size=0.3, random_state=42)\n",
    "\n",
    "# Standardize the features\n",
    "scaler_materials = StandardScaler()\n",
    "X_materials_train_scaled = scaler_materials.fit_transform(X_materials_train)\n",
    "X_materials_test_scaled = scaler_materials.transform(X_materials_test)"
   ]
  },
  {
   "cell_type": "code",
   "execution_count": 3,
   "metadata": {},
   "outputs": [],
   "source": [
    "# Dimensionality reduction using PCA\n",
    "pca_materials = PCA(n_components=2)\n",
    "X_materials_train_pca = pca_materials.fit_transform(X_materials_train_scaled)\n",
    "X_materials_test_pca = pca_materials.transform(X_materials_test_scaled)\n",
    "\n",
    "# Visualization of the data using PCA components\n",
    "plt.figure(figsize=(10, 6))\n",
    "sns.scatterplot(x=X_materials_train_pca[:, 0], y=X_materials_train_pca[:, 1], hue=y_materials_train, palette='viridis', s=50)\n",
    "plt.title('PCA of Material Properties Data')\n",
    "plt.xlabel('PCA Component 1')\n",
    "plt.ylabel('PCA Component 2')\n",
    "plt.legend(title='Material Class')\n",
    "plt.show()"
   ]
  },
  {
   "cell_type": "code",
   "execution_count": 4,
   "metadata": {},
   "outputs": [],
   "source": [
    "# Clustering using KMeans to discover new material classes\n",
    "kmeans_materials = KMeans(n_clusters=3, random_state=42)\n",
    "y_materials_train_clusters = kmeans_materials.fit_predict(X_materials_train_pca)\n",
    "y_materials_test_clusters = kmeans_materials.predict(X_materials_test_pca)\n",
    "\n",
    "# Visualization of the clusters\n",
    "plt.figure(figsize=(10, 6))\n",
    "sns.scatterplot(x=X_materials_train_pca[:, 0], y=X_materials_train_pca[:, 1], hue=y_materials_train_clusters, palette='viridis', s=50)\n",
    "plt.title('KMeans Clustering of Material Data')\n",
    "plt.xlabel('PCA Component 1')\n",
    "plt.ylabel('PCA Component 2')\n",
    "plt.legend(title='Cluster')\n",
    "plt.show()"
   ]
  },
  {
   "cell_type": "code",
   "execution_count": 5,
   "metadata": {},
   "outputs": [],
   "source": [
    "# Classification using Random Forest to predict material classes\n",
    "clf_materials = RandomForestClassifier(n_estimators=100, random_state=42)\n",
    "clf_materials.fit(X_materials_train_scaled, y_materials_train)\n",
    "\n",
    "# Predictions and evaluation\n",
    "y_materials_pred = clf_materials.predict(X_materials_test_scaled)\n",
    "print(classification_report(y_materials_test, y_materials_pred, target_names=['Material Class 1', 'Material Class 2', 'Material Class 3']))\n",
    "print(confusion_matrix(y_materials_test, y_materials_pred))"
   ]
  },
  {
   "cell_type": "code",
   "execution_count": 6,
   "metadata": {},
   "outputs": [],
   "source": [
    "# Feature importance\n",
    "feature_importances_materials = pd.Series(clf_materials.feature_importances_, index=X_materials.columns)\n",
    "feature_importances_materials.sort_values(ascending=False, inplace=True)\n",
    "\n",
    "plt.figure(figsize=(10, 6))\n",
    "sns.barplot(x=feature_importances_materials, y=feature_importances_materials.index)\n",
    "plt.title('Feature Importances in Material Class Prediction')\n",
    "plt.xlabel('Importance Score')\n",
    "plt.ylabel('Feature')\n",
    "plt.show()"
   ]
  }
 ],
 "metadata": {
  "kernelspec": {
   "display_name": "Python 3",
   "language": "python",
   "name": "python3"
  },
  "language_info": {
   "codemirror_mode": {
    "name": "ipython",
    "version": 3
   },
   "file_extension": ".py",
   "mimetype": "text/x-python",
   "name": "python",
   "nbconvert_exporter": "python",
   "pygments_lexer": "ipython3",
   "version": "3.8.5"
  }
 },
 "nbformat": 4,
 "nbformat_minor": 4
}
